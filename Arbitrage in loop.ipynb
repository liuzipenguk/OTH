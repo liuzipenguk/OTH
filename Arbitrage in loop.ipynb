{
 "cells": [
  {
   "cell_type": "code",
   "execution_count": 19,
   "id": "c2b9eb9f-0b34-4123-89a5-45d874f055bc",
   "metadata": {},
   "outputs": [
    {
     "name": "stdout",
     "output_type": "stream",
     "text": [
      "Setup was successful.\n"
     ]
    }
   ],
   "source": [
    "from optibook.synchronous_client import Exchange\n",
    "import time\n",
    "from optibook.synchronous_client import Exchange\n",
    "\n",
    "\n",
    "import logging\n",
    "logger = logging.getLogger('client')\n",
    "logger.setLevel('ERROR')\n",
    "\n",
    "print(\"Setup was successful.\")"
   ]
  },
  {
   "cell_type": "code",
   "execution_count": null,
   "id": "eab5d705-fe35-4d49-8781-04007f5e954d",
   "metadata": {},
   "outputs": [],
   "source": [
    "e = Exchange()\n",
    "a = e.connect()\n",
    "\n",
    "instrument_id = 'PHILIPS_A'\n",
    "instrument_id2 = 'PHILIPS_B'"
   ]
  },
  {
   "cell_type": "code",
   "execution_count": null,
   "id": "991aa71d-2a82-4935-9bd8-e2fd057a9ba7",
   "metadata": {},
   "outputs": [],
   "source": [
    "# ////////////////// timer //////////////////\n",
    "start = time.time() # added by qdou\n",
    "\n",
    "for i in range(10000): \n",
    "    time.sleep(0.01)\n",
    "\n",
    "    book = e.get_last_price_book(instrument_id)\n",
    "    book2 = e.get_last_price_book(instrument_id2)\n",
    "\n",
    "    try:\n",
    "        A_Bid_B_Ask_Spread = book.bids[0].price-book2.asks[0].price\n",
    "        if A_Bid_B_Ask_Spread > 0:\n",
    "            print(A_Bid_B_Ask_Spread, '/A Bid - B Ask')\n",
    "        B_Bid_A_Ask_Spread = book2.bids[0].price-book.asks[0].price\n",
    "        if B_Bid_A_Ask_Spread > 0:\n",
    "            print(B_Bid_A_Ask_Spread, '/B Bid - A Ask')\n",
    "    except IndexError:\n",
    "        pass\n",
    "    \n",
    "    try:    \n",
    "        for s, p in e.get_positions().items():\n",
    "            if p > 100:\n",
    "                e.insert_order(s, price=1, volume=p, side='ask', order_type='ioc')\n",
    "                print('clear inventory of ', p)\n",
    "                time.sleep(5)\n",
    "            elif p < -100:\n",
    "                e.insert_order(s, price=100000, volume=-p, side='bid', order_type='ioc')\n",
    "                print('clear inventory of ', p)\n",
    "                time.sleep(5)\n",
    "     \n",
    "    except IndexError:\n",
    "        pass\n",
    "    \n",
    "\n",
    "    positions = e.get_positions() # added by qdou\n",
    "    if A_Bid_B_Ask_Spread > 0:\n",
    "        print('A bid',book.bids[0].price,'B ask',book2.asks[0].price)\n",
    "        ArbiVol = min(book.bids[0].volume, book2.asks[0].volume, 100, 250-positions[\"PHILIPS_A\"], 250-positions[\"PHILIPS_B\"],250+positions[\"PHILIPS_A\"],250+positions[\"PHILIPS_B\"])\n",
    "        print('A_Bid_B_Ask vol = ',ArbiVol)\n",
    "        # begining with the side with less liquidity > lower volume\n",
    "        if book2.asks[0].volume > book.bids[0].volume:\n",
    "            sell = e.insert_order(instrument_id, price=book.bids[0].price, volume=ArbiVol, side='ask', order_type='limit')\n",
    "            print('sell A at ',book.bids[0].price)\n",
    "            buy = e.insert_order(instrument_id2, price=book2.asks[0].price, volume=ArbiVol, side='bid', order_type='limit')\n",
    "            print('buy B at ',book2.asks[0].price)\n",
    "            print(f\"Order Id: {buy}\")\n",
    "            print(f\"Order Id: {sell}\")\n",
    "            print(ArbiVol,'/A Bid - B Ask')\n",
    "        else:\n",
    "            buy = e.insert_order(instrument_id2, price=book2.asks[0].price, volume=ArbiVol, side='bid', order_type='limit')\n",
    "            print('buy B at ',book2.asks[0].price)\n",
    "            sell = e.insert_order(instrument_id, price=book.bids[0].price, volume=ArbiVol, side='ask', order_type='limit')\n",
    "            print('sell A at ',book.bids[0].price)\n",
    "            print(f\"Order Id: {buy}\")\n",
    "            print(f\"Order Id: {sell}\")\n",
    "            print(ArbiVol,'/A Bid - B Ask')\n",
    "\n",
    "    elif B_Bid_A_Ask_Spread > 0:\n",
    "        print('B bid' ,book2.bids[0].price, 'A ask' ,book.asks[0].price)\n",
    "        ArbiVol = min(book2.bids[0].volume, book.asks[0].volume, 100,250-positions[\"PHILIPS_A\"], 250-positions[\"PHILIPS_B\"],250+positions[\"PHILIPS_A\"],250+positions[\"PHILIPS_B\"])\n",
    "        print('B_Bid_A_Ask vol = ',ArbiVol)\n",
    "        # begining with the side with less liquidity > lower volume\n",
    "        if book.asks[0].volume > book2.bids[0].volume:\n",
    "            sell = e.insert_order(instrument_id2, price=book2.bids[0].price, volume=ArbiVol, side='ask', order_type='limit')\n",
    "            print('sell B at ',book2.bids[0].price)\n",
    "            buy = e.insert_order(instrument_id, price=book.asks[0].price, volume=ArbiVol, side='bid', order_type='limit')\n",
    "            print('buy A at ',book.asks[0].price)\n",
    "            print(f\"Order Id: {buy}\")\n",
    "            print(f\"Order Id: {sell}\")\n",
    "            print(ArbiVol,'/B Bid - A Ask')\n",
    "\n",
    "        else:\n",
    "            buy = e.insert_order(instrument_id, price=book.asks[0].price, volume=ArbiVol, side='bid', order_type='limit')\n",
    "            print('buy A at ',book.asks[0].price)\n",
    "            sell = e.insert_order(instrument_id2, price=book2.bids[0].price, volume=ArbiVol, side='ask', order_type='limit')\n",
    "            print('sell B at ',book2.bids[0].price)\n",
    "            print(f\"Order Id: {buy}\")\n",
    "            print(f\"Order Id: {sell}\")\n",
    "            print(ArbiVol,'/ A AskB - Bid ')\n",
    "            \n",
    "\n",
    "    end = time.time()\n",
    "    #print('The time elapsed between connection and now (after execution) is {}'.format(end - start))\n",
    "    # ////////////////// timer //////////////////"
   ]
  },
  {
   "cell_type": "code",
   "execution_count": null,
   "id": "b1c005f5-8b21-4fb6-8039-727e2de482fe",
   "metadata": {},
   "outputs": [],
   "source": [
    "# Check current positions and PnL\n",
    "positions = e.get_positions()\n",
    "for p in positions:\n",
    "    print(p, positions[p])\n",
    "    \n",
    "pnl = e.get_pnl()\n",
    "print('PnL =',pnl)"
   ]
  },
  {
   "cell_type": "code",
   "execution_count": 179,
   "id": "f884f1d7-104c-4a7e-b111-d4e42a3ace66",
   "metadata": {},
   "outputs": [
    {
     "data": {
      "text/plain": [
       "dict_items([('PHILIPS_A', 187), ('PHILIPS_B', -218)])"
      ]
     },
     "execution_count": 179,
     "metadata": {},
     "output_type": "execute_result"
    }
   ],
   "source": [
    "e.get_positions().items()"
   ]
  },
  {
   "cell_type": "code",
   "execution_count": 180,
   "id": "af786432-44b3-4b31-9618-4aa989b0848a",
   "metadata": {},
   "outputs": [],
   "source": [
    "philips_a_info, pihips_b_info = e.get_positions().items()"
   ]
  },
  {
   "cell_type": "code",
   "execution_count": 181,
   "id": "b4620ab2-9eab-4759-890f-debb23447fe1",
   "metadata": {},
   "outputs": [
    {
     "name": "stdout",
     "output_type": "stream",
     "text": [
      "('PHILIPS_A', 187)\n"
     ]
    }
   ],
   "source": [
    "print(philips_a_info)"
   ]
  },
  {
   "cell_type": "code",
   "execution_count": 183,
   "id": "48fc508a-f25d-4516-96bd-c798be7fb800",
   "metadata": {},
   "outputs": [
    {
     "name": "stdout",
     "output_type": "stream",
     "text": [
      "187\n"
     ]
    }
   ],
   "source": [
    "philips_a_pos = philips_a_info[1]\n",
    "print(philips_a_pos)"
   ]
  },
  {
   "cell_type": "code",
   "execution_count": 187,
   "id": "c0c8abbb-0a5d-49e7-8d2b-4bdc419c13d6",
   "metadata": {},
   "outputs": [
    {
     "name": "stdout",
     "output_type": "stream",
     "text": [
      "{'PHILIPS_A': 0, 'PHILIPS_B': 0}\n"
     ]
    }
   ],
   "source": [
    "for s, p in e.get_positions().items():\n",
    "    if p > 0:\n",
    "        e.insert_order(s, price=1, volume=p, side='ask', order_type='ioc')\n",
    "    elif p < 0:\n",
    "        e.insert_order(s, price=100000, volume=-p, side='bid', order_type='ioc')  \n",
    "print(e.get_positions())"
   ]
  },
  {
   "cell_type": "code",
   "execution_count": null,
   "id": "4a6e4ed5-d86c-4fd3-a0b1-5a392dc639a6",
   "metadata": {},
   "outputs": [],
   "source": []
  }
 ],
 "metadata": {
  "kernelspec": {
   "display_name": "Python 3",
   "language": "python",
   "name": "python3"
  },
  "language_info": {
   "codemirror_mode": {
    "name": "ipython",
    "version": 3
   },
   "file_extension": ".py",
   "mimetype": "text/x-python",
   "name": "python",
   "nbconvert_exporter": "python",
   "pygments_lexer": "ipython3",
   "version": "3.6.12"
  }
 },
 "nbformat": 4,
 "nbformat_minor": 5
}
